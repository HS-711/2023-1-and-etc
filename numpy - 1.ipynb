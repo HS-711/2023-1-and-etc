{
 "cells": [
  {
   "cell_type": "code",
   "execution_count": 3,
   "id": "9af2547f",
   "metadata": {},
   "outputs": [
    {
     "data": {
      "text/plain": [
       "array([[   1880,   90993,  110491],\n",
       "       [   1881,   91954,  100745],\n",
       "       [   1882,  107850,  113688],\n",
       "       [   1883,  112321,  104629],\n",
       "       [   1884,  129022,  114445],\n",
       "       [   1885,  133055,  107800],\n",
       "       [   1886,  144535,  110784],\n",
       "       [   1887,  145982,  101414],\n",
       "       [   1888,  178627,  120853],\n",
       "       [   1889,  178366,  110584],\n",
       "       [   1890,  190377,  111025],\n",
       "       [   1891,  185482,  101196],\n",
       "       [   1892,  212346,  122037],\n",
       "       [   1893,  212906,  112317],\n",
       "       [   1894,  222922,  115772],\n",
       "       [   1895,  233630,  117398],\n",
       "       [   1896,  237920,  119570],\n",
       "       [   1897,  234202,  112758],\n",
       "       [   1898,  258770,  122693],\n",
       "       [   1899,  233023,  106212],\n",
       "       [   1900,  299828,  150499],\n",
       "       [   1901,  239348,  106471],\n",
       "       [   1902,  264077,  122659],\n",
       "       [   1903,  261973,  119234],\n",
       "       [   1904,  275371,  128125],\n",
       "       [   1905,  291629,  132319],\n",
       "       [   1906,  295303,  133159],\n",
       "       [   1907,  318566,  146833],\n",
       "       [   1908,  334313,  154344],\n",
       "       [   1909,  347228,  163999],\n",
       "       [   1910,  396501,  194218],\n",
       "       [   1911,  418299,  225968],\n",
       "       [   1912,  558103,  429945],\n",
       "       [   1913,  624518,  512557],\n",
       "       [   1914,  761548,  654762],\n",
       "       [   1915,  983874,  848603],\n",
       "       [   1916, 1044323,  890099],\n",
       "       [   1917, 1081280,  925511],\n",
       "       [   1918, 1157647, 1013537],\n",
       "       [   1919, 1130145,  980149],\n",
       "       [   1920, 1198283, 1064463],\n",
       "       [   1921, 1232999, 1101457],\n",
       "       [   1922, 1200919, 1088287],\n",
       "       [   1923, 1206330, 1096168],\n",
       "       [   1924, 1248876, 1132751],\n",
       "       [   1925, 1217352, 1115958],\n",
       "       [   1926, 1185304, 1110505],\n",
       "       [   1927, 1192330, 1126717],\n",
       "       [   1928, 1153117, 1107518],\n",
       "       [   1929, 1116422, 1075313],\n",
       "       [   1930, 1125761, 1097176],\n",
       "       [   1931, 1064497, 1039127],\n",
       "       [   1932, 1066994, 1043808],\n",
       "       [   1933, 1007710,  991127],\n",
       "       [   1934, 1044039, 1032291],\n",
       "       [   1935, 1048428, 1040930],\n",
       "       [   1936, 1040202, 1036974],\n",
       "       [   1937, 1063872, 1066309],\n",
       "       [   1938, 1103277, 1108841],\n",
       "       [   1939, 1096518, 1106544],\n",
       "       [   1940, 1143325, 1158900],\n",
       "       [   1941, 1207919, 1227941],\n",
       "       [   1942, 1350545, 1380774],\n",
       "       [   1943, 1395082, 1426846],\n",
       "       [   1944, 1327104, 1362555],\n",
       "       [   1945, 1307028, 1345610],\n",
       "       [   1946, 1571184, 1623650],\n",
       "       [   1947, 1772644, 1829223],\n",
       "       [   1948, 1697814, 1754469],\n",
       "       [   1949, 1710825, 1773725],\n",
       "       [   1950, 1713180, 1790673],\n",
       "       [   1951, 1800042, 1881080],\n",
       "       [   1952, 1854698, 1944277],\n",
       "       [   1953, 1880326, 1969777],\n",
       "       [   1954, 1941682, 2037374],\n",
       "       [   1955, 1954664, 2057918],\n",
       "       [   1956, 2007512, 2113694],\n",
       "       [   1957, 2044160, 2155866],\n",
       "       [   1958, 2010884, 2120712],\n",
       "       [   1959, 2023044, 2133509],\n",
       "       [   1960, 2022093, 2132717],\n",
       "       [   1961, 2017316, 2122502],\n",
       "       [   1962, 1966548, 2068945],\n",
       "       [   1963, 1927217, 2031755],\n",
       "       [   1964, 1894594, 1993270],\n",
       "       [   1965, 1765001, 1861378],\n",
       "       [   1966, 1691868, 1783964],\n",
       "       [   1967, 1650764, 1744527],\n",
       "       [   1968, 1640103, 1738928],\n",
       "       [   1969, 1686947, 1789732],\n",
       "       [   1970, 1748147, 1859594],\n",
       "       [   1971, 1663475, 1769201],\n",
       "       [   1972, 1521185, 1622666],\n",
       "       [   1973, 1458139, 1559338],\n",
       "       [   1974, 1467413, 1573105],\n",
       "       [   1975, 1457699, 1562207],\n",
       "       [   1976, 1465096, 1569904],\n",
       "       [   1977, 1532997, 1643684],\n",
       "       [   1978, 1531658, 1642250],\n",
       "       [   1979, 1605051, 1721947],\n",
       "       [   1980, 1659933, 1783876],\n",
       "       [   1981, 1667465, 1790907],\n",
       "       [   1982, 1692678, 1813970],\n",
       "       [   1983, 1670061, 1791732],\n",
       "       [   1984, 1682973, 1803830],\n",
       "       [   1985, 1720036, 1847032],\n",
       "       [   1986, 1714664, 1840164],\n",
       "       [   1987, 1737891, 1865662],\n",
       "       [   1988, 1779839, 1912602],\n",
       "       [   1989, 1843105, 1999999],\n",
       "       [   1990, 1897709, 2052543],\n",
       "       [   1991, 1874434, 2019463],\n",
       "       [   1992, 1843304, 1996388],\n",
       "       [   1993, 1808379, 1960397],\n",
       "       [   1994, 1785074, 1931157],\n",
       "       [   1995, 1757927, 1902832],\n",
       "       [   1996, 1752249, 1893378],\n",
       "       [   1997, 1739806, 1884122],\n",
       "       [   1998, 1765915, 1910250],\n",
       "       [   1999, 1772632, 1918809],\n",
       "       [   2000, 1814601, 1962406],\n",
       "       [   2001, 1799049, 1941251],\n",
       "       [   2002, 1795206, 1939815],\n",
       "       [   2003, 1825359, 1973434],\n",
       "       [   2004, 1834145, 1982794],\n",
       "       [   2005, 1845379, 1994841],\n",
       "       [   2006, 1898463, 2052377],\n",
       "       [   2007, 1919408, 2072139],\n",
       "       [   2008, 1887234, 2036289],\n",
       "       [   2009, 1832925, 1979303],\n",
       "       [   2010, 1772738, 1913851],\n",
       "       [   2011, 1753500, 1893230]], dtype=int64)"
      ]
     },
     "execution_count": 3,
     "metadata": {},
     "output_type": "execute_result"
    }
   ],
   "source": [
    "import numpy as np\n",
    "birth=np.loadtxt('births.txt',delimiter=',',dtype=np.int64)\n",
    "birth.shape\n",
    "birth"
   ]
  },
  {
   "cell_type": "code",
   "execution_count": 7,
   "id": "84b0c309",
   "metadata": {},
   "outputs": [
    {
     "data": {
      "image/png": "[encoded data removed]",
      "text/plain": [
       "<Figure size 640x480 with 1 Axes>"
      ]
     },
     "metadata": {},
     "output_type": "display_data"
    }
   ],
   "source": [
    "import matplotlib.pyplot as plt\n",
    "a=np.array([1,2,3,4,5])\n",
    "b=np.array([11,22,33,44,55])\n",
    "\n",
    "plt.plot(a,b,'bo--')\n",
    "plt.bar(a,b)\n",
    "plt.title('kor')\n",
    "plt.xlabel('students_num')\n",
    "plt.ylabel('score')\n",
    "plt.show()"
   ]
  },
  {
   "cell_type": "code",
   "execution_count": 20,
   "id": "a234ce91",
   "metadata": {},
   "outputs": [
    {
     "name": "stdout",
     "output_type": "stream",
     "text": [
      "1225776.0681818181 1245399.2121212122\n",
      "1225776\n",
      "1245399\n"
     ]
    }
   ],
   "source": [
    "#남여 출생 평균\n",
    "#MY CODE\n",
    "male,female=0,0\n",
    "for i in birth:\n",
    "    male+=i[1]\n",
    "    female+=i[2]\n",
    "print(male/len(birth),female/len(birth))\n",
    "#ANSWER\n",
    "print(int(birth[:,1].mean()))\n",
    "print(int(birth[:,2].mean()))"
   ]
  },
  {
   "cell_type": "code",
   "execution_count": 21,
   "id": "b6389f05",
   "metadata": {},
   "outputs": [
    {
     "name": "stdout",
     "output_type": "stream",
     "text": [
      "YEAR\tMALE\tFEMALE\n",
      "==================\n",
      "2000\t1814601\t1962406\n",
      "2001\t1799049\t1941251\n",
      "2002\t1795206\t1939815\n",
      "2003\t1825359\t1973434\n",
      "2004\t1834145\t1982794\n",
      "2005\t1845379\t1994841\n",
      "2006\t1898463\t2052377\n",
      "2007\t1919408\t2072139\n",
      "2008\t1887234\t2036289\n",
      "2009\t1832925\t1979303\n",
      "2010\t1772738\t1913851\n",
      "2011\t1753500\t1893230\n"
     ]
    }
   ],
   "source": [
    "#2000년 이후의 데이터\n",
    "print('YEAR','MALE','FEMALE',sep='\\t')\n",
    "print('='*18)\n",
    "for y,m,f in birth[birth[:,0]>=2000]:\n",
    "    print(y,m,f,sep='\\t')"
   ]
  },
  {
   "cell_type": "code",
   "execution_count": 37,
   "id": "9b474d3c",
   "metadata": {},
   "outputs": [
    {
     "name": "stdout",
     "output_type": "stream",
     "text": [
      "1957\t2044160\n"
     ]
    }
   ],
   "source": [
    "#남아 출생이 가장 많은 년도\n",
    "max_male=birth[birth[:,1].argmax()][[0,1]]\n",
    "print(max_male[0],max_male[1],sep='\\t')"
   ]
  },
  {
   "cell_type": "code",
   "execution_count": 42,
   "id": "828a7b40",
   "metadata": {},
   "outputs": [
    {
     "name": "stdout",
     "output_type": "stream",
     "text": [
      "1957 2044160\n",
      "1958 2010884\n",
      "1959 2023044\n",
      "1960 2022093\n",
      "1961 2017316\n"
     ]
    }
   ],
   "source": [
    "#남아출생 top5\n",
    "top5_male=np.sort(birth[:,1])[-1:-6:-1]\n",
    "for i in birth:\n",
    "    for j in top5_male:\n",
    "        if i[1]==j:\n",
    "            print(i[0],j)"
   ]
  },
  {
   "cell_type": "code",
   "execution_count": 43,
   "id": "b63c379c",
   "metadata": {},
   "outputs": [
    {
     "name": "stdout",
     "output_type": "stream",
     "text": [
      "1880\t90993\t110491\t0.45\n",
      "1881\t91954\t100745\t0.48\n",
      "1882\t107850\t113688\t0.49\n",
      "1883\t112321\t104629\t0.52\n",
      "1884\t129022\t114445\t0.53\n",
      "1885\t133055\t107800\t0.55\n",
      "1886\t144535\t110784\t0.57\n",
      "1887\t145982\t101414\t0.59\n",
      "1888\t178627\t120853\t0.6\n",
      "1889\t178366\t110584\t0.62\n",
      "1890\t190377\t111025\t0.63\n",
      "1891\t185482\t101196\t0.65\n",
      "1892\t212346\t122037\t0.64\n",
      "1893\t212906\t112317\t0.65\n",
      "1894\t222922\t115772\t0.66\n",
      "1895\t233630\t117398\t0.67\n",
      "1896\t237920\t119570\t0.67\n",
      "1897\t234202\t112758\t0.68\n",
      "1898\t258770\t122693\t0.68\n",
      "1899\t233023\t106212\t0.69\n",
      "1900\t299828\t150499\t0.67\n",
      "1901\t239348\t106471\t0.69\n",
      "1902\t264077\t122659\t0.68\n",
      "1903\t261973\t119234\t0.69\n",
      "1904\t275371\t128125\t0.68\n",
      "1905\t291629\t132319\t0.69\n",
      "1906\t295303\t133159\t0.69\n",
      "1907\t318566\t146833\t0.68\n",
      "1908\t334313\t154344\t0.68\n",
      "1909\t347228\t163999\t0.68\n",
      "1910\t396501\t194218\t0.67\n",
      "1911\t418299\t225968\t0.65\n",
      "1912\t558103\t429945\t0.56\n",
      "1913\t624518\t512557\t0.55\n",
      "1914\t761548\t654762\t0.54\n",
      "1915\t983874\t848603\t0.54\n",
      "1916\t1044323\t890099\t0.54\n",
      "1917\t1081280\t925511\t0.54\n",
      "1918\t1157647\t1013537\t0.53\n",
      "1919\t1130145\t980149\t0.54\n",
      "1920\t1198283\t1064463\t0.53\n",
      "1921\t1232999\t1101457\t0.53\n",
      "1922\t1200919\t1088287\t0.52\n",
      "1923\t1206330\t1096168\t0.52\n",
      "1924\t1248876\t1132751\t0.52\n",
      "1925\t1217352\t1115958\t0.52\n",
      "1926\t1185304\t1110505\t0.52\n",
      "1927\t1192330\t1126717\t0.51\n",
      "1928\t1153117\t1107518\t0.51\n",
      "1929\t1116422\t1075313\t0.51\n",
      "1930\t1125761\t1097176\t0.51\n",
      "1931\t1064497\t1039127\t0.51\n",
      "1932\t1066994\t1043808\t0.51\n",
      "1933\t1007710\t991127\t0.5\n",
      "1934\t1044039\t1032291\t0.5\n",
      "1935\t1048428\t1040930\t0.5\n",
      "1936\t1040202\t1036974\t0.5\n",
      "1937\t1063872\t1066309\t0.5\n",
      "1938\t1103277\t1108841\t0.5\n",
      "1939\t1096518\t1106544\t0.5\n",
      "1940\t1143325\t1158900\t0.5\n",
      "1941\t1207919\t1227941\t0.5\n",
      "1942\t1350545\t1380774\t0.49\n",
      "1943\t1395082\t1426846\t0.49\n",
      "1944\t1327104\t1362555\t0.49\n",
      "1945\t1307028\t1345610\t0.49\n",
      "1946\t1571184\t1623650\t0.49\n",
      "1947\t1772644\t1829223\t0.49\n",
      "1948\t1697814\t1754469\t0.49\n",
      "1949\t1710825\t1773725\t0.49\n",
      "1950\t1713180\t1790673\t0.49\n",
      "1951\t1800042\t1881080\t0.49\n",
      "1952\t1854698\t1944277\t0.49\n",
      "1953\t1880326\t1969777\t0.49\n",
      "1954\t1941682\t2037374\t0.49\n",
      "1955\t1954664\t2057918\t0.49\n",
      "1956\t2007512\t2113694\t0.49\n",
      "1957\t2044160\t2155866\t0.49\n",
      "1958\t2010884\t2120712\t0.49\n",
      "1959\t2023044\t2133509\t0.49\n",
      "1960\t2022093\t2132717\t0.49\n",
      "1961\t2017316\t2122502\t0.49\n",
      "1962\t1966548\t2068945\t0.49\n",
      "1963\t1927217\t2031755\t0.49\n",
      "1964\t1894594\t1993270\t0.49\n",
      "1965\t1765001\t1861378\t0.49\n",
      "1966\t1691868\t1783964\t0.49\n",
      "1967\t1650764\t1744527\t0.49\n",
      "1968\t1640103\t1738928\t0.49\n",
      "1969\t1686947\t1789732\t0.49\n",
      "1970\t1748147\t1859594\t0.48\n",
      "1971\t1663475\t1769201\t0.48\n",
      "1972\t1521185\t1622666\t0.48\n",
      "1973\t1458139\t1559338\t0.48\n",
      "1974\t1467413\t1573105\t0.48\n",
      "1975\t1457699\t1562207\t0.48\n",
      "1976\t1465096\t1569904\t0.48\n",
      "1977\t1532997\t1643684\t0.48\n",
      "1978\t1531658\t1642250\t0.48\n",
      "1979\t1605051\t1721947\t0.48\n",
      "1980\t1659933\t1783876\t0.48\n",
      "1981\t1667465\t1790907\t0.48\n",
      "1982\t1692678\t1813970\t0.48\n",
      "1983\t1670061\t1791732\t0.48\n",
      "1984\t1682973\t1803830\t0.48\n",
      "1985\t1720036\t1847032\t0.48\n",
      "1986\t1714664\t1840164\t0.48\n",
      "1987\t1737891\t1865662\t0.48\n",
      "1988\t1779839\t1912602\t0.48\n",
      "1989\t1843105\t1999999\t0.48\n",
      "1990\t1897709\t2052543\t0.48\n",
      "1991\t1874434\t2019463\t0.48\n",
      "1992\t1843304\t1996388\t0.48\n",
      "1993\t1808379\t1960397\t0.48\n",
      "1994\t1785074\t1931157\t0.48\n",
      "1995\t1757927\t1902832\t0.48\n",
      "1996\t1752249\t1893378\t0.48\n",
      "1997\t1739806\t1884122\t0.48\n",
      "1998\t1765915\t1910250\t0.48\n",
      "1999\t1772632\t1918809\t0.48\n",
      "2000\t1814601\t1962406\t0.48\n",
      "2001\t1799049\t1941251\t0.48\n",
      "2002\t1795206\t1939815\t0.48\n",
      "2003\t1825359\t1973434\t0.48\n",
      "2004\t1834145\t1982794\t0.48\n",
      "2005\t1845379\t1994841\t0.48\n",
      "2006\t1898463\t2052377\t0.48\n",
      "2007\t1919408\t2072139\t0.48\n",
      "2008\t1887234\t2036289\t0.48\n",
      "2009\t1832925\t1979303\t0.48\n",
      "2010\t1772738\t1913851\t0.48\n",
      "2011\t1753500\t1893230\t0.48\n"
     ]
    }
   ],
   "source": [
    "#남자 비율\n",
    "rate=(birth[:,1]/(birth[:,1]+birth[:,2])).round(2)\n",
    "for y,m,f,rate in zip(birth[:,0],birth[:,1],birth[:,2],rate):\n",
    "    print(y,m,f,rate,sep='\\t')"
   ]
  },
  {
   "cell_type": "code",
   "execution_count": 51,
   "id": "bdaa14ae",
   "metadata": {},
   "outputs": [
    {
     "name": "stdout",
     "output_type": "stream",
     "text": [
      "2000\t1814601\t'많음'\n",
      "2001\t1799049\t'적음'\n",
      "2002\t1795206\t'적음'\n",
      "2003\t1825359\t'많음'\n",
      "2004\t1834145\t'많음'\n",
      "2005\t1845379\t'많음'\n",
      "2006\t1898463\t'많음'\n",
      "2007\t1919408\t'많음'\n",
      "2008\t1887234\t'많음'\n",
      "2009\t1832925\t'많음'\n",
      "2010\t1772738\t'적음'\n",
      "2011\t1753500\t'적음'\n"
     ]
    }
   ],
   "source": [
    "#2000년 이후 데이터에서 남아수가 특정 조건 시 출력\n",
    "aft_2000=birth[birth[:,0]>=2000]\n",
    "for y,m in zip(aft_2000[:,0],aft_2000[:,1]):\n",
    "    if m>=1800000:\n",
    "        print(y,m,'\\'많음\\'',sep='\\t')\n",
    "    else:\n",
    "        print(y,m,'\\'적음\\'',sep='\\t')"
   ]
  },
  {
   "cell_type": "code",
   "execution_count": 56,
   "id": "b21276fe",
   "metadata": {},
   "outputs": [
    {
     "name": "stdout",
     "output_type": "stream",
     "text": [
      "1362901.51 1384145.55\n"
     ]
    }
   ],
   "source": [
    "#1900년대 남아 여아 평균\n",
    "avg_1800=birth[(birth[:,0]>=1900) & (birth[:,0]<2000)][:,1:]\n",
    "print(avg_1800.mean(axis=0)[0],avg_1800.mean(axis=0)[1])"
   ]
  },
  {
   "cell_type": "code",
   "execution_count": 59,
   "id": "b06abd53",
   "metadata": {},
   "outputs": [],
   "source": [
    "#여아 25~75% 사이의 값\n",
    "female_25=np.quantile(birth[:,2],0.25)\n",
    "female_75=np.quantile(birth[:,2],0.75)\n",
    "birth[(birth[:,2]>=female_25) & (birth[:,2]<=female_75)][:,[0,2]]"
   ]
  },
  {
   "cell_type": "code",
   "execution_count": 64,
   "id": "cfefeffb",
   "metadata": {},
   "outputs": [
    {
     "data": {
      "image/png": "[encoded data removed]",
      "text/plain": [
       "<Figure size 640x480 with 1 Axes>"
      ]
     },
     "metadata": {},
     "output_type": "display_data"
    }
   ],
   "source": [
    "#남아 데이터 차트\n",
    "male_2000=birth[birth[:,0]>=2000][:,0:2]\n",
    "plt.bar(male_2000[:,0],male_2000[:,1],color='black')\n",
    "plt.xlabel('year')\n",
    "plt.ylabel('male')\n",
    "plt.show()"
   ]
  },
  {
   "cell_type": "code",
   "execution_count": null,
   "id": "6da1829b",
   "metadata": {},
   "outputs": [],
   "source": []
  }
 ],
 "metadata": {
  "kernelspec": {
   "display_name": "Python 3 (ipykernel)",
   "language": "python",
   "name": "python3"
  },
  "language_info": {
   "codemirror_mode": {
    "name": "ipython",
    "version": 3
   },
   "file_extension": ".py",
   "mimetype": "text/x-python",
   "name": "python",
   "nbconvert_exporter": "python",
   "pygments_lexer": "ipython3",
   "version": "3.9.13"
  }
 },
 "nbformat": 4,
 "nbformat_minor": 5
}

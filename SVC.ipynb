{
  "nbformat": 4,
  "nbformat_minor": 0,
  "metadata": {
    "colab": {
      "provenance": [],
      "gpuType": "T4",
      "mount_file_id": "1SQee8XsaanAiDEYnwHcMw_ARveLjVMDx",
      "authorship_tag": "ABX9TyPqZriIEoyWRH+vhejVNdWf",
      "include_colab_link": true
    },
    "kernelspec": {
      "name": "python3",
      "display_name": "Python 3"
    },
    "language_info": {
      "name": "python"
    },
    "accelerator": "GPU",
    "gpuClass": "standard"
  },
  "cells": [
    {
      "cell_type": "markdown",
      "metadata": {
        "id": "view-in-github",
        "colab_type": "text"
      },
      "source": [
        "<a href=\"https://colab.research.google.com/github/HS-711/hs/blob/main/SVC.ipynb\" target=\"_parent\"><img src=\"https://colab.research.google.com/assets/colab-badge.svg\" alt=\"Open In Colab\"/></a>"
      ]
    },
    {
      "cell_type": "code",
      "execution_count": null,
      "metadata": {
        "colab": {
          "base_uri": "https://localhost:8080/"
        },
        "id": "ey2tpNoKKEdv",
        "outputId": "3765c274-878b-44bb-b5f9-12c05e46aa5c"
      },
      "outputs": [
        {
          "output_type": "stream",
          "name": "stdout",
          "text": [
            "1.0\n",
            "(array([0, 1]), array([1181,   26]))\n"
          ]
        }
      ],
      "source": [
        "import pandas as pd\n",
        "import numpy as np\n",
        "\n",
        "#train 불러오기\n",
        "csv=pd.read_csv('train.csv')\n",
        "train_x=csv.iloc[:,1:-1]\n",
        "train_y=csv.iloc[:,-1].to_numpy()\n",
        "\n",
        "#test 불러오기\n",
        "csv=pd.read_csv('test.csv')\n",
        "test_x=csv.iloc[:,1:]\n",
        "\n",
        "#결측치 고려\n",
        "train_x['PER'] = train_x['PER'].fillna(train_x.PER.mean())\n",
        "train_x['ROE'] = train_x['ROE'].fillna(train_x.ROE.mean())\n",
        "test_x['PER'] = test_x['PER'].fillna(test_x.PER.mean())\n",
        "test_x['ROE'] = test_x['ROE'].fillna(test_x.ROE.mean())\n",
        "\n",
        "#Normalizer\n",
        "from sklearn.preprocessing import Normalizer\n",
        "\n",
        "scaler=Normalizer()\n",
        "train_x_scale=scaler.fit_transform(train_x)\n",
        "test_x_scale=scaler.transform(test_x)\n",
        "\n",
        "#svm\n",
        "from sklearn.svm import SVC\n",
        "\n",
        "svc=SVC()\n",
        "svc.fit(train_x_scale,train_y)\n",
        "pre=svc.predict(test_x_scale)\n",
        "print(svc.score(test_x_scale,pre))\n",
        "print(np.unique(pre,return_counts=True))\n",
        "\n",
        "#tocsv\n",
        "id=list(range(0,1207))\n",
        "df=pd.DataFrame({'id':id,'label':pre})\n",
        "df=df.set_index('id')\n",
        "df.to_csv('hs.csv')"
      ]
    },
    {
      "cell_type": "code",
      "source": [
        "from google.colab import drive\n",
        "drive.mount('/content/drive')"
      ],
      "metadata": {
        "colab": {
          "base_uri": "https://localhost:8080/"
        },
        "id": "Yr6QnKN6luEL",
        "outputId": "95f038aa-86a4-4ed2-d093-e87856e16c51"
      },
      "execution_count": null,
      "outputs": [
        {
          "output_type": "stream",
          "name": "stdout",
          "text": [
            "Mounted at /content/drive\n"
          ]
        }
      ]
    },
    {
      "cell_type": "code",
      "source": [],
      "metadata": {
        "id": "0dvKGFUfZJS-"
      },
      "execution_count": null,
      "outputs": []
    },
    {
      "cell_type": "code",
      "source": [],
      "metadata": {
        "id": "bxTR08BQMAvg"
      },
      "execution_count": null,
      "outputs": []
    }
  ]
}
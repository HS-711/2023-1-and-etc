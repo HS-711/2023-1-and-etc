{
 "cells": [
  {
   "cell_type": "code",
   "execution_count": 4,
   "id": "305e134f",
   "metadata": {},
   "outputs": [
    {
     "data": {
      "text/plain": [
       "array([[[0.61143497, 0.11588049, 0.3664749 , 0.19526403],\n",
       "        [0.55036978, 0.74544664, 0.22036459, 0.91252201]],\n",
       "\n",
       "       [[0.32598596, 0.88402146, 0.46465869, 0.58883143],\n",
       "        [0.28521295, 0.48742115, 0.26963362, 0.43340438]],\n",
       "\n",
       "       [[0.83476022, 0.81932484, 0.0266499 , 0.7566527 ],\n",
       "        [0.53413796, 0.43467563, 0.43810546, 0.43233572]],\n",
       "\n",
       "       [[0.24046781, 0.74800994, 0.79897691, 0.52617149],\n",
       "        [0.68295863, 0.07503643, 0.33565769, 0.81268539]],\n",
       "\n",
       "       [[0.23615662, 0.45600673, 0.43021362, 0.30708808],\n",
       "        [0.45012661, 0.113277  , 0.07026228, 0.57810206]]])"
      ]
     },
     "execution_count": 4,
     "metadata": {},
     "output_type": "execute_result"
    }
   ],
   "source": [
    "import numpy as np\n",
    "a=np.random.rand(5,2,4)\n",
    "type(a)\n",
    "a"
   ]
  },
  {
   "cell_type": "code",
   "execution_count": 5,
   "id": "fbbafcd1",
   "metadata": {},
   "outputs": [
    {
     "data": {
      "text/plain": [
       "array([0, 1, 2, 3, 4, 5])"
      ]
     },
     "execution_count": 5,
     "metadata": {},
     "output_type": "execute_result"
    }
   ],
   "source": [
    "np.arange(6)"
   ]
  },
  {
   "cell_type": "code",
   "execution_count": 6,
   "id": "14a43563",
   "metadata": {},
   "outputs": [
    {
     "data": {
      "text/plain": [
       "array([[[0, 1, 2],\n",
       "        [3, 4, 5]]])"
      ]
     },
     "execution_count": 6,
     "metadata": {},
     "output_type": "execute_result"
    }
   ],
   "source": [
    "np.arange(6) .reshape(1,2,3)"
   ]
  },
  {
   "cell_type": "code",
   "execution_count": 46,
   "id": "49415d61",
   "metadata": {},
   "outputs": [
    {
     "ename": "AttributeError",
     "evalue": "ResultSet object has no attribute 'find_all'. You're probably treating a list of elements like a single element. Did you call find_all() when you meant to call find()?",
     "output_type": "error",
     "traceback": [
      "\u001b[1;31m---------------------------------------------------------------------------\u001b[0m",
      "\u001b[1;31mAttributeError\u001b[0m                            Traceback (most recent call last)",
      "\u001b[1;32m~\\AppData\\Local\\Temp\\ipykernel_36788\\531020162.py\u001b[0m in \u001b[0;36m<module>\u001b[1;34m\u001b[0m\n\u001b[0;32m      5\u001b[0m \u001b[0msoup\u001b[0m\u001b[1;33m=\u001b[0m\u001b[0mBeautifulSoup\u001b[0m\u001b[1;33m(\u001b[0m\u001b[0murl\u001b[0m\u001b[1;33m.\u001b[0m\u001b[0mread\u001b[0m\u001b[1;33m(\u001b[0m\u001b[1;33m)\u001b[0m\u001b[1;33m,\u001b[0m\u001b[1;34m'html.parser'\u001b[0m\u001b[1;33m)\u001b[0m\u001b[1;33m\u001b[0m\u001b[1;33m\u001b[0m\u001b[0m\n\u001b[0;32m      6\u001b[0m \u001b[0mmusics\u001b[0m\u001b[1;33m=\u001b[0m\u001b[0msoup\u001b[0m\u001b[1;33m.\u001b[0m\u001b[0mfind_all\u001b[0m\u001b[1;33m(\u001b[0m\u001b[1;34m'div'\u001b[0m\u001b[1;33m,\u001b[0m\u001b[1;34m'albumTitle'\u001b[0m\u001b[1;33m)\u001b[0m\u001b[1;33m\u001b[0m\u001b[1;33m\u001b[0m\u001b[0m\n\u001b[1;32m----> 7\u001b[1;33m \u001b[0mm\u001b[0m\u001b[1;33m=\u001b[0m\u001b[0mmusics\u001b[0m\u001b[1;33m.\u001b[0m\u001b[0mfind_all\u001b[0m\u001b[1;33m(\u001b[0m\u001b[1;34m'title'\u001b[0m\u001b[1;33m)\u001b[0m\u001b[1;33m\u001b[0m\u001b[1;33m\u001b[0m\u001b[0m\n\u001b[0m\u001b[0;32m      8\u001b[0m \u001b[0mm\u001b[0m\u001b[1;33m\u001b[0m\u001b[1;33m\u001b[0m\u001b[0m\n\u001b[0;32m      9\u001b[0m \u001b[1;31m#for i, music in enumerate(musics):\u001b[0m\u001b[1;33m\u001b[0m\u001b[1;33m\u001b[0m\u001b[0m\n",
      "\u001b[1;32m~\\anaconda3\\lib\\site-packages\\bs4\\element.py\u001b[0m in \u001b[0;36m__getattr__\u001b[1;34m(self, key)\u001b[0m\n\u001b[0;32m   2287\u001b[0m     \u001b[1;32mdef\u001b[0m \u001b[0m__getattr__\u001b[0m\u001b[1;33m(\u001b[0m\u001b[0mself\u001b[0m\u001b[1;33m,\u001b[0m \u001b[0mkey\u001b[0m\u001b[1;33m)\u001b[0m\u001b[1;33m:\u001b[0m\u001b[1;33m\u001b[0m\u001b[1;33m\u001b[0m\u001b[0m\n\u001b[0;32m   2288\u001b[0m         \u001b[1;34m\"\"\"Raise a helpful exception to explain a common code fix.\"\"\"\u001b[0m\u001b[1;33m\u001b[0m\u001b[1;33m\u001b[0m\u001b[0m\n\u001b[1;32m-> 2289\u001b[1;33m         raise AttributeError(\n\u001b[0m\u001b[0;32m   2290\u001b[0m             \u001b[1;34m\"ResultSet object has no attribute '%s'. You're probably treating a list of elements like a single element. Did you call find_all() when you meant to call find()?\"\u001b[0m \u001b[1;33m%\u001b[0m \u001b[0mkey\u001b[0m\u001b[1;33m\u001b[0m\u001b[1;33m\u001b[0m\u001b[0m\n\u001b[0;32m   2291\u001b[0m         )\n",
      "\u001b[1;31mAttributeError\u001b[0m: ResultSet object has no attribute 'find_all'. You're probably treating a list of elements like a single element. Did you call find_all() when you meant to call find()?"
     ]
    }
   ],
   "source": [
    "from urllib.request import urlopen\n",
    "from bs4 import BeautifulSoup\n",
    "\n",
    "#url=urlopen('https://music.bugs.co.kr/chart/album/day/total')\n",
    "#soup=BeautifulSoup(url.read(),'html.parser')\n",
    "#musics=soup.find_all('div','albumTitle')\n",
    "#m=musics.find_all('title')\n",
    "#m\n",
    "#for i, music in enumerate(musics):\n",
    "    #print('{0}:{1}'.format(i+1,music.input['title']))\n",
    "#    print(ｍusic['title'])\n",
    "#m=musics[0]\n",
    "#type(m)\n",
    "#m.find('title').text"
   ]
  },
  {
   "cell_type": "code",
   "execution_count": 55,
   "id": "15311779",
   "metadata": {},
   "outputs": [
    {
     "name": "stdout",
     "output_type": "stream",
     "text": [
      "1rank: I've IVE\n",
      "2rank: NewJeans 1st EP 'New Jeans'\n",
      "3rank: expérgo\n",
      "4rank: ANTIFRAGILE\n",
      "5rank: BORN PINK\n",
      "6rank: H1-KEY 1st Mini Album [Rose Blossom]\n",
      "7rank: YOUNHA 6th Album Repackage 'END THEORY : Final Edition'\n",
      "8rank: WHERE DOES SASQUATCH LIVE? PART 1\n",
      "9rank: Nine Track Mind (Deluxe Edition)\n",
      "10rank: BOYS PLANET - ARTIST BATTLE\n",
      "11rank: YOUNHA 6th Album 'END THEORY'\n",
      "12rank: FACE\n",
      "13rank: The Book of Us : Gravity\n",
      "14rank: FEARLESS\n",
      "15rank: DIFF\n",
      "16rank: THE FIFTY\n",
      "17rank: Candy - Winter Special Mini Album\n",
      "18rank: Justice\n",
      "19rank: I NEVER DIE\n",
      "20rank: 쇼미더머니 11 Episode 3\n",
      "21rank: IU 5th Album 'LILAC'\n",
      "22rank: 스트릿 맨 파이터(SMF) Original Vol.3 (계급미션)\n",
      "23rank: 조각집\n",
      "24rank: Remember Archive\n",
      "25rank: I love\n",
      "26rank: Girls - The 2nd Mini Album\n",
      "27rank: 버스커 버스커 1집\n",
      "28rank: MOVE AGAIN\n",
      "29rank: 전설\n",
      "30rank: INVU - The 3rd Album\n",
      "31rank: 공명\n",
      "32rank: 미스터트롯2 라이벌 매치 베스트 PART1\n",
      "33rank: Eric Clapton's Crossroads Guitar Festival 2019 (Live)\n",
      "34rank: IM HERO\n",
      "35rank: Seoul\n",
      "36rank: ‘The ReVe Festival 2022 - Feel My Rhythm’\n",
      "37rank: FIVE SENSES\n",
      "38rank: Midnights (3am Edition)\n",
      "39rank: ASSEMBLE\n",
      "40rank: SELF\n",
      "41rank: YOU NEVER WALK ALONE\n",
      "42rank: READY TO BE\n",
      "43rank: 호프리스 로맨틱\n",
      "44rank: Takin' It Back\n",
      "45rank: 미스터트롯2 준결승전 신곡미션\n",
      "46rank: FRR\n",
      "47rank: Season Note\n",
      "48rank: Love poem\n",
      "49rank: 싸다9\n",
      "50rank: 불타는 트롯맨 준결승 삼대천왕전 PART 2\n",
      "51rank: 미스터트롯2 1:1 데스매치 베스트 PART2\n",
      "52rank: Glazunov: The Seasons; Concert Waltzes; Schumann: Carnaval\n",
      "53rank: 불타는 트롯맨 결승전 신곡미션\n",
      "54rank: 불타는 트롯맨 디너쇼 미션 PART 2\n",
      "55rank: Every letter I sent you.\n",
      "56rank: 미스터트롯2 데스매치 베스트 PART3\n",
      "57rank: Blank or Black\n",
      "58rank: Proof\n",
      "59rank: Memoirs\n",
      "60rank: 탑건 : 매버릭 (Top Gun: Maverick) (영화 OST)\n",
      "61rank: 항해\n",
      "62rank: 국화꽃 향기: 희재 (Scent Of Love)\n",
      "63rank: 미스터트롯2 결승전 베스트\n",
      "64rank: 선물\n",
      "65rank: Full Album RED PLANET\n",
      "66rank: Over The Moon\n",
      "67rank: TEEN TROUBLES\n",
      "68rank: 666 International\n",
      "69rank: 낭만\n",
      "70rank: Buzz Effect\n",
      "71rank: 사춘기집Ⅰ 꽃기운\n",
      "72rank: CHARLIE\n",
      "73rank: Masego\n",
      "74rank: Ritchie Blackmore's Rainbow\n",
      "75rank: Red Diary Page.1\n",
      "76rank: Voicenotes\n",
      "77rank: SEVENTEEN 4th Album 'Face the Sun'\n",
      "78rank: 미스터트롯2 라이벌 매치 베스트 PART2\n",
      "79rank: Palette\n",
      "80rank: 리바운드 OST\n",
      "81rank: THE ALBUM\n",
      "82rank: 쇼미더머니 11 Episode 1\n",
      "83rank: =\n",
      "84rank: ÷ [Deluxe]\n",
      "85rank: 불타는 트롯맨 결승전 듀엣곡미션 & 미발매곡\n",
      "86rank: SOS\n",
      "87rank: Long Live Rock N Roll (Deluxe Edition)\n",
      "88rank: Starboy\n",
      "89rank: FOREVER 1 - The 7th Album\n",
      "90rank: LOVE YOURSELF 結 ‘Answer’\n",
      "91rank: PROTOTYPE RESEARCH #0063\n",
      "92rank: 불타는 트롯맨 준결승 삼대천왕전 PART 1\n",
      "93rank: 불타는 트롯맨 결승전 인생곡미션\n",
      "94rank: I met you when I was 18. (the playlist)\n",
      "95rank: 미스터트롯2 메들리 팀미션 베스트 PART2\n",
      "96rank: /// (너 먹구름 비)\n",
      "97rank: 이름의 장: TEMPTATION\n",
      "98rank: The Book of Us : The Demon\n",
      "99rank: LOVESTRUCK!\n",
      "100rank: Black Medium Current\n"
     ]
    }
   ],
   "source": [
    "from urllib.request import urlopen\n",
    "from bs4 import BeautifulSoup\n",
    "\n",
    "url = urlopen('https://music.bugs.co.kr/chart/album/day/total')\n",
    "soup = BeautifulSoup(url.read(), 'html.parser')\n",
    "\n",
    "musics = soup.find_all('div', 'albumTitle')\n",
    "i=1\n",
    "for music in musics:\n",
    "    title = music.find('a').text\n",
    "    print('{0}rank: {1}'.format(i,title))\n",
    "    i+=1"
   ]
  },
  {
   "cell_type": "code",
   "execution_count": 39,
   "id": "e8bd491b",
   "metadata": {},
   "outputs": [
    {
     "name": "stdout",
     "output_type": "stream",
     "text": [
      "0위: I AM\n",
      "1위: Kitsch\n",
      "2위: 꽃\n",
      "3위: Cupid\n",
      "4위: Ditto\n",
      "5위: Hype Boy\n",
      "6위: Teddy Bear\n",
      "7위: OMG\n",
      "8위: Love Me Like This\n",
      "9위: 건물 사이에 피어난 장미 (Rose Blossom)\n",
      "10위: I Don’t Think That I Like Her\n",
      "11위: Attention\n",
      "12위: After LIKE\n",
      "13위: CHRISTIAN\n",
      "14위: 파이팅 해야지 (Feat. 이영지)\n",
      "15위: 사건의 지평선\n",
      "16위: LOVE DIVE\n",
      "17위: ANTIFRAGILE\n",
      "18위: 심(心)\n",
      "19위: Dangerously\n",
      "20위: 밤이 무서워요 (Lonely Night)\n",
      "21위: Poppy (Korean Ver.)\n",
      "22위: 한 페이지가 될 수 있게\n",
      "23위: 오르트구름\n",
      "24위: When I Get Old\n",
      "25위: VIBE (feat. Jimin of BTS)\n",
      "26위: Shut Down\n",
      "27위: Cupid (Twin Ver.)\n",
      "28위: FEARLESS\n",
      "29위: 사랑인가 봐\n",
      "30위: Candy\n",
      "31위: ELEVEN\n",
      "32위: Cookie\n",
      "33위: That's Hilarious\n",
      "34위: Nostalgia\n",
      "35위: 너의 모든 순간\n",
      "36위: Pink Venom\n",
      "37위: WHEN I MOVE\n",
      "38위: 그라데이션\n",
      "39위: 정이라고 하자 (Feat. 10CM)\n",
      "40위: Nxde\n",
      "41위: Unholy\n",
      "42위: Say I Love You\n",
      "43위: Blue Blood\n",
      "44위: STAY\n",
      "45위: Young, Dumb, Stupid\n",
      "46위: Love story\n",
      "47위: 다정히 내 이름을 부르면\n",
      "48위: 사람 Pt.2 (feat. 아이유)\n",
      "49위: 자격지심 (Feat. ZICO)\n",
      "50위: Left and Right (Feat. Jung Kook of BTS)\n",
      "51위: Off My Face\n",
      "52위: 내가 아니라도\n",
      "53위: Impurities\n",
      "54위: Rush Hour (Feat. j-hope of BTS)\n",
      "55위: 모든 날, 모든 순간 (Every day, Every Moment)\n",
      "56위: 벚꽃 엔딩\n",
      "57위: That’s Not How This Works (feat. Dan + Shay)\n",
      "58위: LOVE me\n",
      "59위: Feel My Rhythm\n",
      "60위: 주저하는 연인들을 위해\n",
      "61위: 새삥 (Prod. ZICO) (Feat. 호미들)\n",
      "62위: 해요 (2022)\n",
      "63위: 친구로 지내다 보면 (Feat. 김민석 of 멜로망스)\n",
      "64위: 마지막 사랑\n",
      "65위: TOMBOY\n",
      "66위: Anti-Hero\n",
      "67위: 드라마\n",
      "68위: INVU\n",
      "69위: Dreamers [Music from the FIFA World Cup Qatar 2022 Official Soundtrack] (feat. FIFA Sound)\n",
      "70위: 취중고백\n",
      "71위: 사랑은 늘 도망가\n",
      "72위: Rising\n",
      "73위: 우린 그렇게 사랑해서\n",
      "74위: Hurt\n",
      "75위: 봄 사랑 벚꽃 말고\n",
      "76위: Made You Look\n",
      "77위: 그때 그 순간 그대로 (그그그)\n",
      "78위: strawberry moon\n",
      "79위: 봄날\n",
      "80위: Say My Name\n",
      "81위: Monologue\n",
      "82위: 나의 X에게\n",
      "83위: Lips\n",
      "84위: 딱 10CM만\n",
      "85위: Expectations\n",
      "86위: 사랑하기 싫어\n",
      "87위: NOT SORRY (Feat. pH-1) (Prod. by Slom)\n",
      "88위: Zero\n",
      "89위: 그댄 행복에 살텐데 (2022)\n",
      "90위: 팡파레\n",
      "91위: 도깨비불 (Illusion)\n",
      "92위: Dynamite\n",
      "93위: 봄여름가을겨울 (Still Life)\n",
      "94위: SET ME FREE\n",
      "95위: 빛이 나는 너에게\n",
      "96위: 섬찟 (Hypnosis)\n",
      "97위: 보고싶었어\n",
      "98위: Like Crazy\n",
      "99위: Next Level\n"
     ]
    }
   ],
   "source": [
    "from urllib.request import urlopen\n",
    "from bs4 import BeautifulSoup\n",
    "\n",
    "url=urlopen('https://music.bugs.co.kr/chart/track/realtime/total')\n",
    "soup=BeautifulSoup(url.read(),'html.parser')\n",
    "musics=soup.find_all('td','check')\n",
    "for i,a in enumerate(musics):\n",
    "    print('{}위: {}'.format(i+1,a.input['title']))"
   ]
  },
  {
   "cell_type": "code",
   "execution_count": null,
   "id": "78a3ecda",
   "metadata": {},
   "outputs": [],
   "source": []
  }
 ],
 "metadata": {
  "kernelspec": {
   "display_name": "Python 3 (ipykernel)",
   "language": "python",
   "name": "python3"
  },
  "language_info": {
   "codemirror_mode": {
    "name": "ipython",
    "version": 3
   },
   "file_extension": ".py",
   "mimetype": "text/x-python",
   "name": "python",
   "nbconvert_exporter": "python",
   "pygments_lexer": "ipython3",
   "version": "3.9.13"
  }
 },
 "nbformat": 4,
 "nbformat_minor": 5
}

{
 "cells": [
  {
   "cell_type": "code",
   "execution_count": 113,
   "id": "d554ff65",
   "metadata": {},
   "outputs": [
    {
     "data": {
      "text/html": [
       "<div>\n",
       "<style scoped>\n",
       "    .dataframe tbody tr th:only-of-type {\n",
       "        vertical-align: middle;\n",
       "    }\n",
       "\n",
       "    .dataframe tbody tr th {\n",
       "        vertical-align: top;\n",
       "    }\n",
       "\n",
       "    .dataframe thead th {\n",
       "        text-align: right;\n",
       "    }\n",
       "</style>\n",
       "<table border=\"1\" class=\"dataframe\">\n",
       "  <thead>\n",
       "    <tr style=\"text-align: right;\">\n",
       "      <th></th>\n",
       "      <th>Name</th>\n",
       "      <th>Team</th>\n",
       "      <th>War</th>\n",
       "      <th>ERA</th>\n",
       "      <th>Inning</th>\n",
       "      <th>FIP</th>\n",
       "      <th>WHIP</th>\n",
       "    </tr>\n",
       "  </thead>\n",
       "  <tbody>\n",
       "    <tr>\n",
       "      <th>0</th>\n",
       "      <td>Ahn Woo-Jin</td>\n",
       "      <td>Kiwoom</td>\n",
       "      <td>1.23</td>\n",
       "      <td>0.47</td>\n",
       "      <td>19.0</td>\n",
       "      <td>1.73</td>\n",
       "      <td>0.74</td>\n",
       "    </tr>\n",
       "    <tr>\n",
       "      <th>1</th>\n",
       "      <td>Na Kyun-An</td>\n",
       "      <td>Lotte</td>\n",
       "      <td>0.95</td>\n",
       "      <td>1.45</td>\n",
       "      <td>18.7</td>\n",
       "      <td>2.87</td>\n",
       "      <td>1.13</td>\n",
       "    </tr>\n",
       "    <tr>\n",
       "      <th>2</th>\n",
       "      <td>Song Myong-Ki</td>\n",
       "      <td>NC</td>\n",
       "      <td>0.93</td>\n",
       "      <td>0.52</td>\n",
       "      <td>17.3</td>\n",
       "      <td>3.46</td>\n",
       "      <td>1.15</td>\n",
       "    </tr>\n",
       "    <tr>\n",
       "      <th>3</th>\n",
       "      <td>Kwak Bin</td>\n",
       "      <td>Doosan</td>\n",
       "      <td>0.68</td>\n",
       "      <td>0.92</td>\n",
       "      <td>19.2</td>\n",
       "      <td>2.50</td>\n",
       "      <td>0.97</td>\n",
       "    </tr>\n",
       "    <tr>\n",
       "      <th>4</th>\n",
       "      <td>Song Young-Jin</td>\n",
       "      <td>SSG</td>\n",
       "      <td>0.60</td>\n",
       "      <td>0.00</td>\n",
       "      <td>9.7</td>\n",
       "      <td>3.57</td>\n",
       "      <td>0.72</td>\n",
       "    </tr>\n",
       "    <tr>\n",
       "      <th>5</th>\n",
       "      <td>Park Chi-Kook</td>\n",
       "      <td>Doosan</td>\n",
       "      <td>0.58</td>\n",
       "      <td>0.00</td>\n",
       "      <td>6.7</td>\n",
       "      <td>3.01</td>\n",
       "      <td>0.90</td>\n",
       "    </tr>\n",
       "    <tr>\n",
       "      <th>6</th>\n",
       "      <td>Lee Seung-Hyun</td>\n",
       "      <td>Samsung</td>\n",
       "      <td>0.56</td>\n",
       "      <td>0.00</td>\n",
       "      <td>6.7</td>\n",
       "      <td>3.01</td>\n",
       "      <td>1.20</td>\n",
       "    </tr>\n",
       "    <tr>\n",
       "      <th>7</th>\n",
       "      <td>Kim Dong-Joo</td>\n",
       "      <td>Doosan</td>\n",
       "      <td>0.54</td>\n",
       "      <td>0.90</td>\n",
       "      <td>10.0</td>\n",
       "      <td>2.76</td>\n",
       "      <td>1.30</td>\n",
       "    </tr>\n",
       "    <tr>\n",
       "      <th>8</th>\n",
       "      <td>Moon Dong-Joo</td>\n",
       "      <td>Hanwha</td>\n",
       "      <td>0.47</td>\n",
       "      <td>1.64</td>\n",
       "      <td>11.0</td>\n",
       "      <td>2.46</td>\n",
       "      <td>0.55</td>\n",
       "    </tr>\n",
       "    <tr>\n",
       "      <th>9</th>\n",
       "      <td>Jung Cheol-Won</td>\n",
       "      <td>Doosan</td>\n",
       "      <td>0.46</td>\n",
       "      <td>2.08</td>\n",
       "      <td>8.7</td>\n",
       "      <td>3.92</td>\n",
       "      <td>1.50</td>\n",
       "    </tr>\n",
       "  </tbody>\n",
       "</table>\n",
       "</div>"
      ],
      "text/plain": [
       "             Name     Team   War   ERA  Inning   FIP  WHIP\n",
       "0     Ahn Woo-Jin   Kiwoom  1.23  0.47    19.0  1.73  0.74\n",
       "1      Na Kyun-An    Lotte  0.95  1.45    18.7  2.87  1.13\n",
       "2   Song Myong-Ki       NC  0.93  0.52    17.3  3.46  1.15\n",
       "3        Kwak Bin   Doosan  0.68  0.92    19.2  2.50  0.97\n",
       "4  Song Young-Jin      SSG  0.60  0.00     9.7  3.57  0.72\n",
       "5   Park Chi-Kook   Doosan  0.58  0.00     6.7  3.01  0.90\n",
       "6  Lee Seung-Hyun  Samsung  0.56  0.00     6.7  3.01  1.20\n",
       "7    Kim Dong-Joo   Doosan  0.54  0.90    10.0  2.76  1.30\n",
       "8   Moon Dong-Joo   Hanwha  0.47  1.64    11.0  2.46  0.55\n",
       "9  Jung Cheol-Won   Doosan  0.46  2.08     8.7  3.92  1.50"
      ]
     },
     "execution_count": 113,
     "metadata": {},
     "output_type": "execute_result"
    }
   ],
   "source": [
    "import numpy as np\n",
    "import pandas as pd\n",
    "df=pd.read_csv('data/25 under pitcher.txt')#,index_col=0)\n",
    "df"
   ]
  },
  {
   "cell_type": "code",
   "execution_count": 21,
   "id": "12d1e9ac",
   "metadata": {},
   "outputs": [
    {
     "data": {
      "text/plain": [
       "Index(['안우진', '나균안', '송명기', '곽 빈', '송영진', '박치국', '이승현', '김동주', '문동주', '정철원'], dtype='object')"
      ]
     },
     "execution_count": 21,
     "metadata": {},
     "output_type": "execute_result"
    }
   ],
   "source": [
    "df.index"
   ]
  },
  {
   "cell_type": "code",
   "execution_count": 47,
   "id": "0b6a1a2d",
   "metadata": {},
   "outputs": [
    {
     "data": {
      "text/plain": [
       "[1.5, 1.3, 1.2, 1.15, 1.13, 0.97, 0.9, 0.74, 0.72, 0.55]"
      ]
     },
     "execution_count": 47,
     "metadata": {},
     "output_type": "execute_result"
    }
   ],
   "source": [
    "a=df['WHIP'].tolist()\n",
    "a.sort(reverse=True)\n",
    "a"
   ]
  },
  {
   "cell_type": "code",
   "execution_count": 102,
   "id": "e281244d",
   "metadata": {},
   "outputs": [
    {
     "name": "stdout",
     "output_type": "stream",
     "text": [
      "Ahn Woo-Jin\tNa Kyun-An\tSong Myong-Ki\tKwak Bin\tMoon Dong-Joo\t"
     ]
    }
   ],
   "source": [
    "for x in range(len(df.index)):\n",
    "    if df.iloc[x]['Inning']>10:\n",
    "        print(df.iloc[x][0],end='\\t')"
   ]
  },
  {
   "cell_type": "code",
   "execution_count": 114,
   "id": "7d7bee37",
   "metadata": {},
   "outputs": [
    {
     "data": {
      "image/png": "[encoded data removed]",
      "text/plain": [
       "<Figure size 640x480 with 1 Axes>"
      ]
     },
     "metadata": {},
     "output_type": "display_data"
    }
   ],
   "source": [
    "import matplotlib\n",
    "#import matplotlib.pyplot as plt\n",
    "%matplotlib inline\n",
    "df.plot(kind='bar',x='Name',y=['War','WHIP','ERA'],color=['red','green','violet'])\n",
    "plt.xticks(fontsize=10)\n",
    "plt.show()"
   ]
  },
  {
   "cell_type": "code",
   "execution_count": null,
   "id": "1f9fe38a",
   "metadata": {},
   "outputs": [],
   "source": []
  },
  {
   "cell_type": "code",
   "execution_count": null,
   "id": "af1fd6af",
   "metadata": {},
   "outputs": [],
   "source": []
  }
 ],
 "metadata": {
  "kernelspec": {
   "display_name": "Python 3 (ipykernel)",
   "language": "python",
   "name": "python3"
  },
  "language_info": {
   "codemirror_mode": {
    "name": "ipython",
    "version": 3
   },
   "file_extension": ".py",
   "mimetype": "text/x-python",
   "name": "python",
   "nbconvert_exporter": "python",
   "pygments_lexer": "ipython3",
   "version": "3.9.13"
  }
 },
 "nbformat": 4,
 "nbformat_minor": 5
}
